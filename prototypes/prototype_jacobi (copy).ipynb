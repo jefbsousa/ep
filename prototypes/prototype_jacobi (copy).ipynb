{
 "cells": [
  {
   "cell_type": "markdown",
   "metadata": {},
   "source": [
    "https://www.quantstart.com/articles/Jacobi-Method-in-Python-and-NumPy"
   ]
  },
  {
   "cell_type": "markdown",
   "metadata": {},
   "source": [
    "https://www3.nd.edu/~zxu2/acms40390F12/Lec-7.3.pdf"
   ]
  },
  {
   "cell_type": "markdown",
   "metadata": {},
   "source": [
    "https://www.ucg.ac.me/skladiste/blog_10701/objava_23569/fajlovi/jacobi.pdf"
   ]
  },
  {
   "cell_type": "code",
   "execution_count": 1,
   "metadata": {},
   "outputs": [],
   "source": [
    "import numpy as np"
   ]
  },
  {
   "cell_type": "code",
   "execution_count": 2,
   "metadata": {},
   "outputs": [],
   "source": [
    "MAXITER = 10\n",
    "\n",
    "A = np.array([[10., -1., 2., 0.],\n",
    " [-1., 11., -1., 3.],\n",
    " [2., -1., 10., -1.],\n",
    " [0.0, 3., -1., 8.]])\n",
    "b = np.array([6., 25., -11., 15.])\n",
    "\n",
    "\n",
    "A = np.array([[4., -1., 0., -1., 0., 0., 0., 0., 0.],\n",
    "              [-1., 4., -1., 0., -1., 0., 0., 0., 0.],\n",
    "              [0., -1., 4., 0., 0., -1., 0., 0., 0.],\n",
    "              [-1., 0., 0., 4., -1., 0., -1., 0., 0.],\n",
    "              [0., -1., 0., -1., 4., -1., 0., -1., 0.],\n",
    "              [0., 0., -1., 0., -1., 4., 0., 0., -1.],\n",
    "              [0., 0., 0., -1., 0., 0., 4., -1., 0.],\n",
    "              [0., 0., 0., 0., -1., 0., -1., 4., -1.],\n",
    "             [0., 0., 0., 0., 0., -1., 0., -1., 4. ]])\n",
    "\n",
    "b = np.array([0.074221,\n",
    "            0,\n",
    "            2.017541,\n",
    "            1.43827,\n",
    "            0.,\n",
    "            3.909641,\n",
    "            2.04491 + 3.24141,\n",
    "            4.16205,\n",
    "            5.55865 + 5.34418])\n",
    "\n",
    "# A = np.array([[2., 1.],\n",
    "#              [5., 7.]])\n",
    "# b = np.array([11., 13.])\n",
    "\n",
    "# x = np.ones(len(b))"
   ]
  },
  {
   "cell_type": "code",
   "execution_count": 3,
   "metadata": {},
   "outputs": [
    {
     "name": "stdout",
     "output_type": "stream",
     "text": [
      "System:\n",
      "4.0*x1 + -1.0*x2 + 0.0*x3 + -1.0*x4 + 0.0*x5 + 0.0*x6 + 0.0*x7 + 0.0*x8 + 0.0*x9 = 0.074221\n",
      "-1.0*x1 + 4.0*x2 + -1.0*x3 + 0.0*x4 + -1.0*x5 + 0.0*x6 + 0.0*x7 + 0.0*x8 + 0.0*x9 = 0.0\n",
      "0.0*x1 + -1.0*x2 + 4.0*x3 + 0.0*x4 + 0.0*x5 + -1.0*x6 + 0.0*x7 + 0.0*x8 + 0.0*x9 = 2.017541\n",
      "-1.0*x1 + 0.0*x2 + 0.0*x3 + 4.0*x4 + -1.0*x5 + 0.0*x6 + -1.0*x7 + 0.0*x8 + 0.0*x9 = 1.43827\n",
      "0.0*x1 + -1.0*x2 + 0.0*x3 + -1.0*x4 + 4.0*x5 + -1.0*x6 + 0.0*x7 + -1.0*x8 + 0.0*x9 = 0.0\n",
      "0.0*x1 + 0.0*x2 + -1.0*x3 + 0.0*x4 + -1.0*x5 + 4.0*x6 + 0.0*x7 + 0.0*x8 + -1.0*x9 = 3.909641\n",
      "0.0*x1 + 0.0*x2 + 0.0*x3 + -1.0*x4 + 0.0*x5 + 0.0*x6 + 4.0*x7 + -1.0*x8 + 0.0*x9 = 5.28632\n",
      "0.0*x1 + 0.0*x2 + 0.0*x3 + 0.0*x4 + -1.0*x5 + 0.0*x6 + -1.0*x7 + 4.0*x8 + -1.0*x9 = 4.16205\n",
      "0.0*x1 + 0.0*x2 + 0.0*x3 + 0.0*x4 + 0.0*x5 + -1.0*x6 + 0.0*x7 + -1.0*x8 + 4.0*x9 = 10.90283\n",
      "\n"
     ]
    }
   ],
   "source": [
    "print(\"System:\" )\n",
    "\n",
    "for i in range(A.shape[0]):\n",
    "    row = [\"{}*x{}\" .format(A[i, j], j + 1) for j in range(A.shape[1])]\n",
    "    print(\" + \".join(row), \"=\", b[i])\n",
    "print()\n"
   ]
  },
  {
   "cell_type": "code",
   "execution_count": 4,
   "metadata": {},
   "outputs": [
    {
     "name": "stdout",
     "output_type": "stream",
     "text": [
      "Current solution: [1. 1. 1. 1. 1. 1. 1. 1. 1.]\n",
      "Current solution: [0.51855525 0.75       1.00438525 1.1095675  1.         1.72741025\n",
      " 1.82158    1.7905125  3.2257075 ]\n",
      "Current solution: [0.48344713 0.63073512 1.12373781 1.19460131 1.34437256 2.28493344\n",
      " 2.0466     2.55233438 3.60518819]\n",
      "Current solution: [0.47488936 0.73788937 1.23330239 1.32817242 1.66565106 2.49573489\n",
      " 2.25831392 2.78955269 3.93502445]\n",
      "Current solution: [0.5350707  0.8434607  1.31279132 1.45928109 1.83783734 2.68590473\n",
      " 2.35101128 3.00525986 4.04702939]\n",
      "Current solution: [0.5942407  0.92142484 1.38672661 1.54054733 1.99847659 2.77682476\n",
      " 2.43771524 3.099482   4.14849865]\n",
      "Current solution: [0.63404829 0.99486097 1.42894765 1.61717563 2.08456973 2.86083571\n",
      " 2.48158733 3.18668512 4.19478419]\n",
      "Current solution: [0.6715644  1.03689142 1.46830942 1.65961884 2.16488936 2.90448564\n",
      " 2.52254519 3.23074781 4.23758771]\n",
      "Current solution: [0.69268281 1.0761908  1.48972952 1.69931724 2.20793593 2.94510687\n",
      " 2.54417166 3.27176806 4.25951586]\n",
      "Current solution: [0.71243226 1.09758707 1.50970967 1.7207651  2.24809574 2.96670558\n",
      " 2.56435133 3.29341836 4.27992623]\n"
     ]
    }
   ],
   "source": [
    "\n",
    "x = np.ones(len(b))\n",
    "\n",
    "R = A.copy()\n",
    "np.fill_diagonal(R, 0.)\n",
    "D = np.diag(A)\n",
    "\n",
    "\n",
    "for it_count in range(MAXITER):\n",
    "    print(\"Current solution:\" , x)\n",
    "    x_new = np.zeros(len(x))\n",
    "    \n",
    "    R_dot_x = np.dot(R, x)\n",
    "    x_new = (b - R_dot_x)/D\n",
    "        \n",
    "    if np.allclose(x, x_new, atol=1e-10, rtol=1e-10):\n",
    "        break\n",
    "        \n",
    "    x = x_new\n",
    "    \n"
   ]
  },
  {
   "cell_type": "code",
   "execution_count": null,
   "metadata": {},
   "outputs": [],
   "source": []
  },
  {
   "cell_type": "code",
   "execution_count": 5,
   "metadata": {},
   "outputs": [],
   "source": [
    "\n",
    "# for it_count in range(MAXITER):\n",
    "#     print(\"Current solution:\" , x)\n",
    "#     x_new = np.zeros(len(x))\n",
    "    \n",
    "#     for i in range(A.shape[0]):\n",
    "#         s1 = np.dot(A[i, :i], x[:i])\n",
    "#         s2 = np.dot(A[i, i + 1:], x[i + 1:])\n",
    "#         x_new[i] = (b[i] - s1 - s2) / A[i, i]\n",
    "        \n",
    "#     if np.allclose(x, x_new, atol=1e-10, rtol=1e-10):\n",
    "#         break\n",
    "        \n",
    "#     x = x_new\n",
    "    \n"
   ]
  },
  {
   "cell_type": "code",
   "execution_count": 6,
   "metadata": {},
   "outputs": [
    {
     "name": "stdout",
     "output_type": "stream",
     "text": [
      "Solution:\n",
      "[0.72314329 1.11755942 1.52045841 1.74078733 2.26961903 2.98684316\n",
      " 2.57512587 3.31360583 4.29073849]\n",
      "Error:\n",
      "[-0.03999458 -0.04298306 -0.04010993 -0.04300886 -0.08031963 -0.04308428\n",
      " -0.04020969 -0.04311008 -0.04032504]\n"
     ]
    }
   ],
   "source": [
    "# prints the system\n",
    "\n",
    "print(\"Solution:\" )\n",
    "print(x)\n",
    "error = np.dot(A, x) - b\n",
    "print(\"Error:\" )\n",
    "print(error)"
   ]
  },
  {
   "cell_type": "code",
   "execution_count": null,
   "metadata": {},
   "outputs": [],
   "source": []
  },
  {
   "cell_type": "code",
   "execution_count": null,
   "metadata": {},
   "outputs": [],
   "source": []
  },
  {
   "cell_type": "code",
   "execution_count": null,
   "metadata": {},
   "outputs": [],
   "source": []
  }
 ],
 "metadata": {
  "kernelspec": {
   "display_name": "Python 3",
   "language": "python",
   "name": "python3"
  },
  "language_info": {
   "codemirror_mode": {
    "name": "ipython",
    "version": 3
   },
   "file_extension": ".py",
   "mimetype": "text/x-python",
   "name": "python",
   "nbconvert_exporter": "python",
   "pygments_lexer": "ipython3",
   "version": "3.5.2"
  }
 },
 "nbformat": 4,
 "nbformat_minor": 2
}
