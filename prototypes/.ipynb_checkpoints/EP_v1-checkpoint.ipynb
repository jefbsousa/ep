{
 "cells": [
  {
   "cell_type": "markdown",
   "metadata": {},
   "source": [
    "N = 4 <br>\n",
    "prototype"
   ]
  },
  {
   "cell_type": "markdown",
   "metadata": {},
   "source": [
    "<h4>Item <i>\"a)\"</i> Onde f = 0 e u(x,y)= alpha * np.exp(x) * np.sin(y) na fronteira</h4>"
   ]
  },
  {
   "cell_type": "code",
   "execution_count": 10,
   "metadata": {},
   "outputs": [],
   "source": [
    "import numpy as np"
   ]
  },
  {
   "cell_type": "code",
   "execution_count": 27,
   "metadata": {},
   "outputs": [],
   "source": [
    "N=2**3\n",
    "MAXITER=10**3\n",
    "\n",
    "alpha = 3.0\n",
    "h=1./N\n",
    "\n",
    "TOL = 10**-5 * h"
   ]
  },
  {
   "cell_type": "markdown",
   "metadata": {},
   "source": [
    "<h3>Funções Auxiliares</h3>"
   ]
  },
  {
   "cell_type": "markdown",
   "metadata": {},
   "source": [
    "<h4>Jacobi</h4>"
   ]
  },
  {
   "cell_type": "code",
   "execution_count": 28,
   "metadata": {},
   "outputs": [],
   "source": [
    "def jacobi_method(U_old, U_new, h, F):\n",
    "    for i in range(1,N):\n",
    "        for j in range(1,N):\n",
    "            U_new[i][j] = 0.25*(U_old[i-1][j] + U_old[i+1][j] + U_old[i][j-1] + U_old[i][j+1] + h**2 * F[i][j])"
   ]
  },
  {
   "cell_type": "markdown",
   "metadata": {},
   "source": [
    "<h4>PASSO 1 e 2</h4>"
   ]
  },
  {
   "cell_type": "code",
   "execution_count": 29,
   "metadata": {},
   "outputs": [],
   "source": [
    "U_old = np.zeros((N+1,N+1))\n",
    "U_new = np.zeros((N+1,N+1))\n",
    "F = np.zeros((N+1,N+1)) "
   ]
  },
  {
   "cell_type": "markdown",
   "metadata": {},
   "source": [
    "<h4>PASSO 3</h4>"
   ]
  },
  {
   "cell_type": "code",
   "execution_count": 30,
   "metadata": {},
   "outputs": [],
   "source": [
    "F = np.zeros((N+1,N+1)) "
   ]
  },
  {
   "cell_type": "markdown",
   "metadata": {},
   "source": [
    "<h4>PASSO 4</h4>"
   ]
  },
  {
   "cell_type": "code",
   "execution_count": 31,
   "metadata": {},
   "outputs": [],
   "source": [
    "# Atualiza as bordas\n",
    "\n",
    "\n",
    "# Parte inferior e superior da Malha\n",
    "for i in range(N+1):\n",
    "    U_old[i, 0] = alpha * np.exp(h*i) * np.sin(h*0.)\n",
    "    U_old[i, N] = alpha * np.exp(h*i) * np.sin(h*N)\n",
    "\n",
    "# Parte esquerda e direita da Malha\n",
    "for j in range(N+1):\n",
    "    U_old[0, j] = alpha * np.exp(h*0.) * np.sin(h*j)\n",
    "    U_old[N, j] = alpha * np.exp(h*N) * np.sin(h*j)    \n"
   ]
  },
  {
   "cell_type": "code",
   "execution_count": 32,
   "metadata": {},
   "outputs": [
    {
     "data": {
      "text/plain": [
       "array([[0.        , 0.3740242 , 0.74221188, 1.09881759, 1.43827662,\n",
       "        1.75529182, 2.04491628, 2.30263051, 2.52441295],\n",
       "       [0.        , 0.        , 0.        , 0.        , 0.        ,\n",
       "        0.        , 0.        , 0.        , 2.86053463],\n",
       "       [0.        , 0.        , 0.        , 0.        , 0.        ,\n",
       "        0.        , 0.        , 0.        , 3.2414104 ],\n",
       "       [0.        , 0.        , 0.        , 0.        , 0.        ,\n",
       "        0.        , 0.        , 0.        , 3.67299918],\n",
       "       [0.        , 0.        , 0.        , 0.        , 0.        ,\n",
       "        0.        , 0.        , 0.        , 4.16205333],\n",
       "       [0.        , 0.        , 0.        , 0.        , 0.        ,\n",
       "        0.        , 0.        , 0.        , 4.7162243 ],\n",
       "       [0.        , 0.        , 0.        , 0.        , 0.        ,\n",
       "        0.        , 0.        , 0.        , 5.34418227],\n",
       "       [0.        , 0.        , 0.        , 0.        , 0.        ,\n",
       "        0.        , 0.        , 0.        , 6.05575187],\n",
       "       [0.        , 1.01670319, 2.01754106, 2.98689588, 3.90964119,\n",
       "        4.77137785, 5.55865876, 6.25919866, 6.86206586]])"
      ]
     },
     "execution_count": 32,
     "metadata": {},
     "output_type": "execute_result"
    }
   ],
   "source": [
    "U_old"
   ]
  },
  {
   "cell_type": "markdown",
   "metadata": {},
   "source": [
    "<h4>PASSO 5-7</h4>"
   ]
  },
  {
   "cell_type": "code",
   "execution_count": 33,
   "metadata": {},
   "outputs": [],
   "source": [
    "for it in range(MAXITER):\n",
    "    jacobi_method(U_old, U_new, h, F)\n",
    "    \n",
    "#     if calculate_diff(U_new, U_old) <= TOL:\n",
    "#         print('Algoritmo convergiu com %d iterações' %(it))\n",
    "#         break\n",
    "    \n",
    "    U_old = U_new.copy()"
   ]
  },
  {
   "cell_type": "code",
   "execution_count": 34,
   "metadata": {},
   "outputs": [
    {
     "data": {
      "text/plain": [
       "array([[0.00000000e+00, 0.00000000e+00, 0.00000000e+00, 0.00000000e+00,\n",
       "        0.00000000e+00, 0.00000000e+00, 0.00000000e+00, 0.00000000e+00,\n",
       "        0.00000000e+00],\n",
       "       [0.00000000e+00, 1.79103248e-36, 3.57911721e-36, 4.32393491e-36,\n",
       "        5.06163610e-36, 4.32393491e-36, 3.57911721e-36, 1.79103248e-36,\n",
       "        0.00000000e+00],\n",
       "       [0.00000000e+00, 3.57911721e-36, 6.11496740e-36, 8.64075330e-36,\n",
       "        8.64786983e-36, 8.64075330e-36, 6.11496740e-36, 3.57911721e-36,\n",
       "        0.00000000e+00],\n",
       "       [0.00000000e+00, 4.32393491e-36, 8.64075330e-36, 1.04389023e-35,\n",
       "        1.22198705e-35, 1.04389023e-35, 8.64075330e-36, 4.32393491e-36,\n",
       "        0.00000000e+00],\n",
       "       [0.00000000e+00, 5.06163610e-36, 8.64786983e-36, 1.22198705e-35,\n",
       "        1.22299348e-35, 1.22198705e-35, 8.64786983e-36, 5.06163610e-36,\n",
       "        0.00000000e+00],\n",
       "       [0.00000000e+00, 4.32393491e-36, 8.64075330e-36, 1.04389023e-35,\n",
       "        1.22198705e-35, 1.04389023e-35, 8.64075330e-36, 4.32393491e-36,\n",
       "        0.00000000e+00],\n",
       "       [0.00000000e+00, 3.57911721e-36, 6.11496740e-36, 8.64075330e-36,\n",
       "        8.64786983e-36, 8.64075330e-36, 6.11496740e-36, 3.57911721e-36,\n",
       "        0.00000000e+00],\n",
       "       [0.00000000e+00, 1.79103248e-36, 3.57911721e-36, 4.32393491e-36,\n",
       "        5.06163610e-36, 4.32393491e-36, 3.57911721e-36, 1.79103248e-36,\n",
       "        0.00000000e+00],\n",
       "       [0.00000000e+00, 0.00000000e+00, 0.00000000e+00, 0.00000000e+00,\n",
       "        0.00000000e+00, 0.00000000e+00, 0.00000000e+00, 0.00000000e+00,\n",
       "        0.00000000e+00]])"
      ]
     },
     "execution_count": 34,
     "metadata": {},
     "output_type": "execute_result"
    }
   ],
   "source": [
    "U_new"
   ]
  },
  {
   "cell_type": "code",
   "execution_count": null,
   "metadata": {},
   "outputs": [],
   "source": []
  },
  {
   "cell_type": "code",
   "execution_count": null,
   "metadata": {},
   "outputs": [],
   "source": []
  },
  {
   "cell_type": "code",
   "execution_count": null,
   "metadata": {},
   "outputs": [],
   "source": []
  }
 ],
 "metadata": {
  "kernelspec": {
   "display_name": "Python 3",
   "language": "python",
   "name": "python3"
  },
  "language_info": {
   "codemirror_mode": {
    "name": "ipython",
    "version": 3
   },
   "file_extension": ".py",
   "mimetype": "text/x-python",
   "name": "python",
   "nbconvert_exporter": "python",
   "pygments_lexer": "ipython3",
   "version": "3.5.2"
  }
 },
 "nbformat": 4,
 "nbformat_minor": 2
}
