{
 "cells": [
  {
   "cell_type": "markdown",
   "metadata": {},
   "source": [
    "N = 4 <br>\n",
    "prototype"
   ]
  },
  {
   "cell_type": "markdown",
   "metadata": {},
   "source": [
    "<h4>Item <i>\"a)\"</i> Onde f = 0 e u(x,y)= alpha * np.exp(x) * np.sin(y) na fronteira</h4>"
   ]
  },
  {
   "cell_type": "code",
   "execution_count": 1,
   "metadata": {},
   "outputs": [],
   "source": [
    "import numpy as np"
   ]
  },
  {
   "cell_type": "code",
   "execution_count": 8,
   "metadata": {},
   "outputs": [],
   "source": [
    "N=4\n",
    "MAXITER=100**1\n",
    "\n",
    "alpha = 3.0\n",
    "h=1./N\n",
    "\n",
    "TOL = 10**-2 * h"
   ]
  },
  {
   "cell_type": "markdown",
   "metadata": {},
   "source": [
    "<h3>Funções Auxiliares</h3>"
   ]
  },
  {
   "cell_type": "markdown",
   "metadata": {},
   "source": [
    "<h4>Jacobi</h4>"
   ]
  },
  {
   "cell_type": "code",
   "execution_count": 9,
   "metadata": {},
   "outputs": [],
   "source": [
    "def jacobi_method(U_old, U_new, h, F):\n",
    "    for i in range(1,N):\n",
    "        for j in range(1,N):\n",
    "            U_new[i][j] = 0.25*(U_old[i-1][j] + U_old[i+1][j] + U_old[i][j-1] + U_old[i][j+1] + h**2 * F[i][j])"
   ]
  },
  {
   "cell_type": "markdown",
   "metadata": {},
   "source": [
    "<h4>PASSO 1 e 2</h4>"
   ]
  },
  {
   "cell_type": "code",
   "execution_count": 10,
   "metadata": {},
   "outputs": [],
   "source": [
    "U_old = np.zeros((N+1,N+1))\n",
    "U_new = np.zeros((N+1,N+1))\n",
    "F = np.zeros((N+1,N+1)) "
   ]
  },
  {
   "cell_type": "markdown",
   "metadata": {},
   "source": [
    "<h4>PASSO 3</h4>"
   ]
  },
  {
   "cell_type": "code",
   "execution_count": 11,
   "metadata": {},
   "outputs": [],
   "source": [
    "F = np.zeros((N+1,N+1)) "
   ]
  },
  {
   "cell_type": "markdown",
   "metadata": {},
   "source": [
    "<h4>PASSO 4</h4>"
   ]
  },
  {
   "cell_type": "code",
   "execution_count": 12,
   "metadata": {},
   "outputs": [],
   "source": [
    "# Atualiza as bordas\n",
    "\n",
    "\n",
    "# Parte inferior da Matriz U_old[N, col], equivalente a [i, j=0] ou [x, y=0] na malha \n",
    "# no sentido da esq. para a direita na Matriz U_old\n",
    "for col in range(N+1):\n",
    "    U_old[N, col] = alpha * np.exp(h*col) * np.sin(h*0)\n",
    "\n",
    "# Parte superior da Matriz U_old[0, col], equivalente a [i, j=N] ou [x, y=N] na malha \n",
    "# no sentido da esq. para a direita na Matriz U_old\n",
    "for col in range(N+1):\n",
    "    U_old[0][col] = alpha * np.exp(h*col) * np.sin(h*N)\n",
    "\n",
    "    \n",
    "\n",
    "# Parte esquerda da Matriz U_old[row, 0], equivalente a [i=0, j] ou [x=0, y] na malha \n",
    "# \n",
    "for row in range(N+1):\n",
    "    U_old[row][0] = alpha * np.exp(h*0.) * np.sin(h*(N-row))\n",
    "    \n",
    "# Parte esquerda da Matriz U_old[row, N], equivalente a [i=N, j] ou [x=N, y] na malha \n",
    "# \n",
    "for row in range(N+1):\n",
    "    U_old[row][N] = alpha * np.exp(h*N) * np.sin(h*(N-row))"
   ]
  },
  {
   "cell_type": "code",
   "execution_count": 13,
   "metadata": {},
   "outputs": [
    {
     "data": {
      "text/plain": [
       "array([[2.52441295, 3.2414104 , 4.16205333, 5.34418227, 6.86206586],\n",
       "       [2.04491628, 0.        , 0.        , 0.        , 5.55865876],\n",
       "       [1.43827662, 0.        , 0.        , 0.        , 3.90964119],\n",
       "       [0.74221188, 0.        , 0.        , 0.        , 2.01754106],\n",
       "       [0.        , 0.        , 0.        , 0.        , 0.        ]])"
      ]
     },
     "execution_count": 13,
     "metadata": {},
     "output_type": "execute_result"
    }
   ],
   "source": [
    "U_old"
   ]
  },
  {
   "cell_type": "markdown",
   "metadata": {},
   "source": [
    "<h4>PASSO 5-7</h4>"
   ]
  },
  {
   "cell_type": "code",
   "execution_count": 14,
   "metadata": {},
   "outputs": [],
   "source": [
    "for it in range(MAXITER):\n",
    "    jacobi_method(U_old, U_new, h, F)\n",
    "    \n",
    "#     if calculate_diff(U_new, U_old) <= TOL:\n",
    "#         print('Algoritmo convergiu com %d iterações' %(it))\n",
    "#         break\n",
    "    \n",
    "    U_old = U_new.copy()"
   ]
  },
  {
   "cell_type": "code",
   "execution_count": 15,
   "metadata": {},
   "outputs": [
    {
     "data": {
      "text/plain": [
       "array([[0.00000000e+00, 0.00000000e+00, 0.00000000e+00, 0.00000000e+00,\n",
       "        0.00000000e+00],\n",
       "       [0.00000000e+00, 5.27909446e-16, 1.05187640e-15, 5.27909446e-16,\n",
       "        0.00000000e+00],\n",
       "       [0.00000000e+00, 1.05187640e-15, 1.05581889e-15, 1.05187640e-15,\n",
       "        0.00000000e+00],\n",
       "       [0.00000000e+00, 5.27909446e-16, 1.05187640e-15, 5.27909446e-16,\n",
       "        0.00000000e+00],\n",
       "       [0.00000000e+00, 0.00000000e+00, 0.00000000e+00, 0.00000000e+00,\n",
       "        0.00000000e+00]])"
      ]
     },
     "execution_count": 15,
     "metadata": {},
     "output_type": "execute_result"
    }
   ],
   "source": [
    "U_new"
   ]
  },
  {
   "cell_type": "code",
   "execution_count": null,
   "metadata": {},
   "outputs": [],
   "source": []
  },
  {
   "cell_type": "code",
   "execution_count": null,
   "metadata": {},
   "outputs": [],
   "source": []
  }
 ],
 "metadata": {
  "kernelspec": {
   "display_name": "Python 3",
   "language": "python",
   "name": "python3"
  },
  "language_info": {
   "codemirror_mode": {
    "name": "ipython",
    "version": 3
   },
   "file_extension": ".py",
   "mimetype": "text/x-python",
   "name": "python",
   "nbconvert_exporter": "python",
   "pygments_lexer": "ipython3",
   "version": "3.6.8"
  }
 },
 "nbformat": 4,
 "nbformat_minor": 2
}
