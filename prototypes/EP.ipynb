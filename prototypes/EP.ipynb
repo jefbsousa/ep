{
 "cells": [
  {
   "cell_type": "markdown",
   "metadata": {},
   "source": [
    "<a href=\"http://folk.ntnu.no/leifh/teaching/tkt4140/._main057.html\" target=\"_blank\">Iterative Methods</a>"
   ]
  },
  {
   "cell_type": "markdown",
   "metadata": {},
   "source": [
    "N = 4 <br>\n",
    "prototype"
   ]
  },
  {
   "cell_type": "markdown",
   "metadata": {},
   "source": [
    "<h4>Item <i>\"a)\"</i> Onde f = 0 e u(x,y)= alpha * np.exp(x) * np.sin(y) na fronteira</h4>"
   ]
  },
  {
   "cell_type": "code",
   "execution_count": 43,
   "metadata": {},
   "outputs": [],
   "source": [
    "import numpy as np\n",
    "import pandas as pd\n",
    "from time import time"
   ]
  },
  {
   "cell_type": "markdown",
   "metadata": {},
   "source": [
    "<h3>Funções Auxiliares</h3>"
   ]
  },
  {
   "cell_type": "markdown",
   "metadata": {},
   "source": [
    "<h4>Jacobi</h4>"
   ]
  },
  {
   "cell_type": "code",
   "execution_count": 44,
   "metadata": {},
   "outputs": [],
   "source": [
    "def jacobi_method(U_old, U_new, h, F):\n",
    "    for j in range(1,N):\n",
    "        for i in range(1,N):\n",
    "            U_new[i, j] = 0.25*(U_old[i-1, j] + U_old[i+1, j] + U_old[i, j-1] + U_old[i, j+1] + h**2 * F[i, j])   "
   ]
  },
  {
   "cell_type": "markdown",
   "metadata": {},
   "source": [
    "<h4>Gauss-Seidel</h4>"
   ]
  },
  {
   "cell_type": "code",
   "execution_count": 45,
   "metadata": {},
   "outputs": [],
   "source": [
    "def g_s_method(U_old, U_new, h, F):\n",
    "    for j in range(1,N):\n",
    "        for i in range(1,N):\n",
    "            U_new[i, j] = 0.25*(U_new[i-1, j] + U_old[i+1, j] + U_new[i, j-1] + U_old[i, j+1] + h**2 * F[i, j])   "
   ]
  },
  {
   "cell_type": "markdown",
   "metadata": {},
   "source": [
    "<h4>SOR</h4>"
   ]
  },
  {
   "cell_type": "code",
   "execution_count": 46,
   "metadata": {},
   "outputs": [],
   "source": [
    "def sor_method(w, U_old, U_new, h, F):\n",
    "    for j in range(1,N):\n",
    "        for i in range(1,N):\n",
    "            U_new[i,j] =  (w/4.0) * (U_new[i-1,j] + U_old[i+1,j] + U_new[i,j-1] + U_old[i,j+1] + h**2 *F[i,j]) + (1.-w)*U_old[i,j];\n"
   ]
  },
  {
   "cell_type": "code",
   "execution_count": null,
   "metadata": {},
   "outputs": [],
   "source": []
  },
  {
   "cell_type": "markdown",
   "metadata": {},
   "source": [
    "<h3>Funções Vetoriais Auxiliares</h3>"
   ]
  },
  {
   "cell_type": "markdown",
   "metadata": {},
   "source": [
    "<h4>Jacobi</h4>"
   ]
  },
  {
   "cell_type": "code",
   "execution_count": 47,
   "metadata": {},
   "outputs": [],
   "source": [
    "def jacobi_method_vector(U_old, U_new, h, F):\n",
    "    \n",
    "    left_points  = U_old[0:N-1, 1:N].copy()\n",
    "    right_points = U_old[2:N+1, 1:N].copy()\n",
    "    down_points  = U_old[1:N, 0:N-1].copy()\n",
    "    up_points    = U_old[1:N, 2:N+1].copy()\n",
    "        \n",
    "    f_val = F[1:N, 1:N].copy()\n",
    "    f_val = h**2 * f_val\n",
    "    \n",
    "    result = 0.25 * (left_points + right_points + down_points + up_points + f_val)\n",
    "\n",
    "    U_new[1:N, 1:N] = result.copy()\n",
    "        "
   ]
  },
  {
   "cell_type": "code",
   "execution_count": null,
   "metadata": {},
   "outputs": [],
   "source": []
  },
  {
   "cell_type": "markdown",
   "metadata": {},
   "source": [
    "<h4>PASSO 1 e 2</h4>"
   ]
  },
  {
   "cell_type": "code",
   "execution_count": 48,
   "metadata": {},
   "outputs": [],
   "source": [
    "def initialize_matrixes():\n",
    "    U_old = np.zeros((N+1,N+1))\n",
    "    U_new = np.zeros((N+1,N+1))\n",
    "    F = np.zeros((N+1,N+1)) \n",
    "    \n",
    "    return U_old, U_new, F"
   ]
  },
  {
   "cell_type": "markdown",
   "metadata": {},
   "source": [
    "<h4>PASSO 3</h4>"
   ]
  },
  {
   "cell_type": "code",
   "execution_count": 49,
   "metadata": {},
   "outputs": [],
   "source": [
    "def initialize_U_answer():\n",
    "    \n",
    "    U_answer = np.zeros((N+1,N+1)) \n",
    "\n",
    "    for j_y in range(N+1):\n",
    "        for i_x in range(N+1):\n",
    "            U_answer[i_x, j_y] = alpha * np.exp(h*i_x) * np.sin(h*j_y)\n",
    "    \n",
    "    return U_answer"
   ]
  },
  {
   "cell_type": "code",
   "execution_count": null,
   "metadata": {},
   "outputs": [],
   "source": []
  },
  {
   "cell_type": "markdown",
   "metadata": {},
   "source": [
    "<h4>PASSO 4</h4>"
   ]
  },
  {
   "cell_type": "code",
   "execution_count": 50,
   "metadata": {},
   "outputs": [],
   "source": [
    "def update_border(U_old, U_new):\n",
    "    # Parte inferior e superior da Malha\n",
    "    for i in range(N+1):\n",
    "        U_old[i, 0] = alpha * np.exp(h*i) * np.sin(h*0.)\n",
    "        U_old[i, N] = alpha * np.exp(h*i) * np.sin(h*N)\n",
    "\n",
    "    # Parte esquerda e direita da Malha\n",
    "    for j in range(N+1):\n",
    "        U_old[0, j] = alpha * np.exp(h*0.) * np.sin(h*j)\n",
    "        U_old[N, j] = alpha * np.exp(h*N) * np.sin(h*j)    \n",
    "    \n",
    "    #U_old e U_new têm o mesmo valor nas bordas\n",
    "    U_new = U_old.copy()\n",
    "    \n",
    "    return U_new, U_old"
   ]
  },
  {
   "cell_type": "code",
   "execution_count": 51,
   "metadata": {},
   "outputs": [],
   "source": [
    "def calculate_difference(U_new, U_old, N):\n",
    "    \n",
    "    quadratic_diff = (U_new[1:N-1, 1:N-1] - U_old[1:N-1, 1:N-1]) **2\n",
    "    return h * np.sqrt((quadratic_diff.sum()))"
   ]
  },
  {
   "cell_type": "markdown",
   "metadata": {},
   "source": [
    "<h4>PASSO 5-7</h4>"
   ]
  },
  {
   "cell_type": "code",
   "execution_count": 52,
   "metadata": {},
   "outputs": [],
   "source": [
    "def call_g_s(U_old, U_new, h, F, TOL, U_answer, MAXITER):\n",
    "    \n",
    "    start = time()\n",
    "    n_iterations = 0\n",
    "    \n",
    "    for it in range(80000):\n",
    "\n",
    "        g_s_method(U_old, U_new, h, F)\n",
    "\n",
    "        if calculate_difference(U_new, U_old, N) <= TOL:\n",
    "            print('Gauss-Seidel convergiu com %d iterações' %(it))\n",
    "            n_iterations = it\n",
    "            break\n",
    "\n",
    "        U_old = U_new.copy()\n",
    "\n",
    "    end = time()\n",
    "#     print('%f Segundos' %(end-start), '\\nErro: ',np.amax(abs(U_answer - U_new)))\n",
    "    return ['Gauss-Seidel', N, n_iterations, (end-start), np.amax(abs(U_answer - U_new))]\n"
   ]
  },
  {
   "cell_type": "code",
   "execution_count": null,
   "metadata": {},
   "outputs": [],
   "source": []
  },
  {
   "cell_type": "code",
   "execution_count": 53,
   "metadata": {
    "scrolled": true
   },
   "outputs": [],
   "source": [
    "def call_jacobi(U_old, U_new, h, F, TOL, U_answer, MAXITER):\n",
    "    \n",
    "    start = time()\n",
    "    n_iterations = 0\n",
    "\n",
    "    for it in range(80000):\n",
    "        jacobi_method(U_old, U_new, h, F)\n",
    "\n",
    "        if calculate_difference(U_new, U_old, N) <= TOL:\n",
    "            print('Jacobi convergiu com %d iterações' %(it))\n",
    "            n_iterations = it\n",
    "            break\n",
    "\n",
    "        U_old = U_new.copy()\n",
    "\n",
    "    end = time()\n",
    "#     print('%f Segundos' %(end-start), '\\nErro: ',np.amax(abs(U_answer - U_new)))    \n",
    "    return ['Jacobi', N, n_iterations, (end-start), np.amax(abs(U_answer - U_new))]\n"
   ]
  },
  {
   "cell_type": "code",
   "execution_count": null,
   "metadata": {},
   "outputs": [],
   "source": []
  },
  {
   "cell_type": "code",
   "execution_count": 54,
   "metadata": {},
   "outputs": [],
   "source": [
    "def call_sor(U_old, U_new, h, F, TOL, U_answer, MAXITER):\n",
    "    \n",
    "    start = time()\n",
    "    n_iterations = 0\n",
    "    w = 2./(1. + np.sin(np.pi*h))\n",
    "    \n",
    "    for it in range(80000):\n",
    "        sor_method(w, U_old, U_new, h, F)\n",
    "\n",
    "        if calculate_difference(U_new, U_old, N) <= TOL:\n",
    "            print('SOR convergiu com %d iterações' %(it))\n",
    "            n_iterations = it\n",
    "            break\n",
    "\n",
    "        U_old = U_new.copy()\n",
    "\n",
    "    end = time()\n",
    "#     print('%f Segundos' %(end-start), '\\nErro: ',np.amax(abs(U_answer - U_new)))    \n",
    "    return ['SOR', N, n_iterations, (end-start), np.amax(abs(U_answer - U_new))]\n"
   ]
  },
  {
   "cell_type": "code",
   "execution_count": null,
   "metadata": {},
   "outputs": [],
   "source": []
  },
  {
   "cell_type": "code",
   "execution_count": 55,
   "metadata": {},
   "outputs": [],
   "source": [
    "df = pd.DataFrame({},columns=['Método', 'tamanho de N', 'num. iterações', 'tempo(seg)', 'erro absoluto máx'])"
   ]
  },
  {
   "cell_type": "code",
   "execution_count": 59,
   "metadata": {
    "scrolled": false
   },
   "outputs": [
    {
     "name": "stdout",
     "output_type": "stream",
     "text": [
      "Jacobi convergiu com 2049 iterações\n"
     ]
    },
    {
     "data": {
      "text/plain": [
       "['Jacobi', 32, 2049, 3.5075416564941406, 0.00011004883299770007]"
      ]
     },
     "execution_count": 59,
     "metadata": {},
     "output_type": "execute_result"
    }
   ],
   "source": [
    "N=2**5\n",
    "MAXITER=80000\n",
    "\n",
    "alpha = 2.0\n",
    "h=1./N\n",
    "\n",
    "TOL = 10**-5 * h\n",
    "\n",
    "U_old, U_new, F = initialize_matrixes()\n",
    "U_answer = initialize_U_answer()\n",
    "U_new, U_old = update_border(U_old, U_new)\n",
    "\n",
    "call_jacobi(U_old, U_new, h, F, TOL, U_answer, MAXITER)\n",
    "# call_g_s(U_old, U_new, h, F, TOL, U_answer, MAXITER)\n",
    "# call_sor(U_old, U_new, h, F, TOL, U_answer, MAXITER)\n",
    "\n",
    "#df.loc[-1] = call_jacobi(U_old, U_new, h, F, TOL, U_answer, MAXITER)\n",
    "#df.index += 1"
   ]
  },
  {
   "cell_type": "code",
   "execution_count": null,
   "metadata": {},
   "outputs": [],
   "source": []
  },
  {
   "cell_type": "code",
   "execution_count": null,
   "metadata": {},
   "outputs": [],
   "source": []
  }
 ],
 "metadata": {
  "kernelspec": {
   "display_name": "Python 3",
   "language": "python",
   "name": "python3"
  },
  "language_info": {
   "codemirror_mode": {
    "name": "ipython",
    "version": 3
   },
   "file_extension": ".py",
   "mimetype": "text/x-python",
   "name": "python",
   "nbconvert_exporter": "python",
   "pygments_lexer": "ipython3",
   "version": "3.5.9"
  }
 },
 "nbformat": 4,
 "nbformat_minor": 2
}
