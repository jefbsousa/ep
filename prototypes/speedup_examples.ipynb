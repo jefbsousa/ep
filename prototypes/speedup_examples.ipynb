{
 "cells": [
  {
   "cell_type": "code",
   "execution_count": 1,
   "metadata": {},
   "outputs": [],
   "source": [
    "import numpy as np\n",
    "from time import time"
   ]
  },
  {
   "cell_type": "markdown",
   "metadata": {},
   "source": [
    "<h3>Sum of matrix elements</h3>"
   ]
  },
  {
   "cell_type": "code",
   "execution_count": 6,
   "metadata": {},
   "outputs": [
    {
     "name": "stdout",
     "output_type": "stream",
     "text": [
      "100000000.0 34.47145318984985\n"
     ]
    }
   ],
   "source": [
    "start = time()\n",
    "\n",
    "TAM = 10 * 10**3\n",
    "A = np.ones((TAM, TAM))\n",
    "\n",
    "cc = 0\n",
    "for i in range(TAM):\n",
    "    for j in range(TAM):\n",
    "        cc += A[i, j]\n",
    "        \n",
    "end = time()\n",
    "print(cc, end-start)"
   ]
  },
  {
   "cell_type": "code",
   "execution_count": 5,
   "metadata": {},
   "outputs": [
    {
     "name": "stdout",
     "output_type": "stream",
     "text": [
      "100000000.0 0.25794243812561035\n"
     ]
    }
   ],
   "source": [
    "start = time()\n",
    "\n",
    "TAM = 10 * 10**3\n",
    "A = np.ones((TAM, TAM))\n",
    "\n",
    "arr = np.zeros((TAM))\n",
    "\n",
    "for row in range(TAM):\n",
    "    arr += A[row, :]\n",
    "\n",
    "end = time()\n",
    "print(arr.sum(), end-start)"
   ]
  },
  {
   "cell_type": "code",
   "execution_count": 11,
   "metadata": {},
   "outputs": [
    {
     "name": "stdout",
     "output_type": "stream",
     "text": [
      "100000000.0 0.06497836112976074\n"
     ]
    }
   ],
   "source": [
    "start = time()\n",
    "\n",
    "s = np.sum(A)\n",
    "\n",
    "end = time()\n",
    "print(s, end-start)"
   ]
  },
  {
   "cell_type": "code",
   "execution_count": null,
   "metadata": {},
   "outputs": [],
   "source": []
  }
 ],
 "metadata": {
  "kernelspec": {
   "display_name": "Python 3",
   "language": "python",
   "name": "python3"
  },
  "language_info": {
   "codemirror_mode": {
    "name": "ipython",
    "version": 3
   },
   "file_extension": ".py",
   "mimetype": "text/x-python",
   "name": "python",
   "nbconvert_exporter": "python",
   "pygments_lexer": "ipython3",
   "version": "3.6.8"
  }
 },
 "nbformat": 4,
 "nbformat_minor": 2
}
