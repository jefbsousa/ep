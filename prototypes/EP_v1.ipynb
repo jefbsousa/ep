{
 "cells": [
  {
   "cell_type": "markdown",
   "metadata": {},
   "source": [
    "N = 4 <br>\n",
    "prototype"
   ]
  },
  {
   "cell_type": "markdown",
   "metadata": {},
   "source": [
    "<h4>Item <i>\"a)\"</i> Onde f = 0 e u(x,y)= alpha * np.exp(x) * np.sin(y) na fronteira</h4>"
   ]
  },
  {
   "cell_type": "code",
   "execution_count": 1,
   "metadata": {},
   "outputs": [],
   "source": [
    "import numpy as np\n",
    "from time import time"
   ]
  },
  {
   "cell_type": "code",
   "execution_count": null,
   "metadata": {},
   "outputs": [],
   "source": [
    "N=3\n",
    "MAXITER=10**3\n",
    "\n",
    "alpha = 3.0\n",
    "h=1./N\n",
    "\n",
    "TOL = 10**-5 * h"
   ]
  },
  {
   "cell_type": "markdown",
   "metadata": {},
   "source": [
    "<h3>Funções Auxiliares</h3>"
   ]
  },
  {
   "cell_type": "markdown",
   "metadata": {},
   "source": [
    "<h4>Jacobi</h4>"
   ]
  },
  {
   "cell_type": "code",
   "execution_count": null,
   "metadata": {},
   "outputs": [],
   "source": [
    "def jacobi_method(U_old, U_new, h, F):\n",
    "    for i in range(1,N):\n",
    "        for j in range(1,N):\n",
    "            U_new[i][j] = 0.25*(U_old[i-1][j] + U_old[i+1][j] + U_old[i][j-1] + U_old[i][j+1] + h**2 * F[i][j])\n"
   ]
  },
  {
   "cell_type": "code",
   "execution_count": null,
   "metadata": {},
   "outputs": [],
   "source": []
  },
  {
   "cell_type": "markdown",
   "metadata": {},
   "source": [
    "<h4>PASSO 1 e 2</h4>"
   ]
  },
  {
   "cell_type": "code",
   "execution_count": null,
   "metadata": {},
   "outputs": [],
   "source": [
    "U_old = np.zeros((N+1,N+1))\n",
    "U_new = np.zeros((N+1,N+1))\n",
    "F = np.zeros((N+1,N+1)) "
   ]
  },
  {
   "cell_type": "markdown",
   "metadata": {},
   "source": [
    "<h4>PASSO 3</h4>"
   ]
  },
  {
   "cell_type": "code",
   "execution_count": null,
   "metadata": {},
   "outputs": [],
   "source": [
    "F = np.zeros((N+1,N+1)) "
   ]
  },
  {
   "cell_type": "markdown",
   "metadata": {},
   "source": [
    "<h4>PASSO 4</h4>"
   ]
  },
  {
   "cell_type": "code",
   "execution_count": null,
   "metadata": {},
   "outputs": [],
   "source": [
    "# Atualiza as bordas\n",
    "\n",
    "\n",
    "# Parte inferior e superior da Malha\n",
    "for i in range(N+1):\n",
    "    U_old[i, 0] = alpha * np.exp(h*i) * np.sin(h*0.)\n",
    "    U_old[i, N] = alpha * np.exp(h*i) * np.sin(h*N)\n",
    "\n",
    "# Parte esquerda e direita da Malha\n",
    "for j in range(N+1):\n",
    "    U_old[0, j] = alpha * np.exp(h*0.) * np.sin(h*j)\n",
    "    U_old[N, j] = alpha * np.exp(h*N) * np.sin(h*j)    \n"
   ]
  },
  {
   "cell_type": "code",
   "execution_count": null,
   "metadata": {},
   "outputs": [],
   "source": [
    "U_old"
   ]
  },
  {
   "cell_type": "markdown",
   "metadata": {},
   "source": [
    "<h4>PASSO 5-7</h4>"
   ]
  },
  {
   "cell_type": "code",
   "execution_count": null,
   "metadata": {},
   "outputs": [],
   "source": [
    "for it in range(MAXITER):\n",
    "    jacobi_method(U_old, U_new, h, F)\n",
    "    \n",
    "#     if calculate_diff(U_new, U_old) <= TOL:\n",
    "#         print('Algoritmo convergiu com %d iterações' %(it))\n",
    "#         break\n",
    "    \n",
    "    U_old = U_new.copy()"
   ]
  },
  {
   "cell_type": "code",
   "execution_count": null,
   "metadata": {},
   "outputs": [],
   "source": [
    "U_new"
   ]
  },
  {
   "cell_type": "code",
   "execution_count": null,
   "metadata": {},
   "outputs": [],
   "source": []
  },
  {
   "cell_type": "code",
   "execution_count": null,
   "metadata": {},
   "outputs": [],
   "source": []
  },
  {
   "cell_type": "code",
   "execution_count": null,
   "metadata": {},
   "outputs": [],
   "source": []
  },
  {
   "cell_type": "markdown",
   "metadata": {},
   "source": [
    "<h2>Item B</h2>"
   ]
  },
  {
   "cell_type": "code",
   "execution_count": 12,
   "metadata": {},
   "outputs": [],
   "source": [
    "N=3\n",
    "MAXITER=10**3\n",
    "\n",
    "alpha = 3.0\n",
    "h=1./N\n",
    "\n",
    "TOL = 10**-5 * h"
   ]
  },
  {
   "cell_type": "code",
   "execution_count": 22,
   "metadata": {},
   "outputs": [],
   "source": [
    "U_old = np.zeros((N+1,N+1))\n",
    "U_new = np.zeros((N+1,N+1))\n",
    "F = np.zeros((N+1,N+1)) "
   ]
  },
  {
   "cell_type": "code",
   "execution_count": 14,
   "metadata": {},
   "outputs": [],
   "source": [
    "def initialize_F_matrix(F, N):\n",
    "    for j_y in range(N+1):\n",
    "        for i_x in range(N+1):\n",
    "            F[i_x, j_y] = round(6. * np.pi**2 * np.cos(np.pi * (i_x*h)) * np.sin(np.pi * (j_y*h)) , 2) \n",
    "            \n",
    "    return F"
   ]
  },
  {
   "cell_type": "code",
   "execution_count": 21,
   "metadata": {},
   "outputs": [],
   "source": [
    "def initialize_U_edges(U_old, N):\n",
    "    # Parte inferior e superior da Malha\n",
    "    for i_x in range(N+1):\n",
    "        U_old[i_x, 0] = round(3. * np.cos(np.pi * (h*i_x)) * np.sin(np.pi * (h*0.)), 2)\n",
    "        U_old[i_x, N] = round(3. * np.cos(np.pi * (h*i_x)) * np.sin(np.pi * (h*N )), 2)\n",
    "\n",
    "    # Parte esquerda e direita da Malha\n",
    "    for j_y in range(N+1):\n",
    "        U_old[0, j_y] = round(3. * np.cos(np.pi * (h*0.)) * np.sin(np.pi * (h*j_y)), 2)\n",
    "        U_old[N, j_y] = round(3. * np.cos(np.pi * (h*N) ) * np.sin(np.pi * (h*j_y)), 2)\n",
    "    \n",
    "    return U_old\n"
   ]
  },
  {
   "cell_type": "code",
   "execution_count": 23,
   "metadata": {},
   "outputs": [],
   "source": [
    "F = initialize_F_matrix(F, N)\n",
    "U_old = initialize_U_edges(U_old, N)"
   ]
  },
  {
   "cell_type": "code",
   "execution_count": 24,
   "metadata": {},
   "outputs": [
    {
     "data": {
      "text/plain": [
       "array([[  0.  ,  51.28,  51.28,   0.  ],\n",
       "       [  0.  ,  25.64,  25.64,   0.  ],\n",
       "       [ -0.  , -25.64, -25.64,  -0.  ],\n",
       "       [ -0.  , -51.28, -51.28,  -0.  ]])"
      ]
     },
     "execution_count": 24,
     "metadata": {},
     "output_type": "execute_result"
    }
   ],
   "source": [
    "F"
   ]
  },
  {
   "cell_type": "code",
   "execution_count": 25,
   "metadata": {},
   "outputs": [
    {
     "data": {
      "text/plain": [
       "array([[ 0. ,  2.6,  2.6,  0. ],\n",
       "       [ 0. ,  0. ,  0. ,  0. ],\n",
       "       [-0. ,  0. ,  0. , -0. ],\n",
       "       [-0. , -2.6, -2.6, -0. ]])"
      ]
     },
     "execution_count": 25,
     "metadata": {},
     "output_type": "execute_result"
    }
   ],
   "source": [
    "U_old"
   ]
  },
  {
   "cell_type": "code",
   "execution_count": null,
   "metadata": {},
   "outputs": [],
   "source": []
  },
  {
   "cell_type": "code",
   "execution_count": 54,
   "metadata": {},
   "outputs": [
    {
     "data": {
      "text/plain": [
       "array([[  0.  ,  51.28,  51.28,   0.  ],\n",
       "       [  0.  ,  25.64,  25.64,   0.  ],\n",
       "       [ -0.  , -25.64, -25.64,  -0.  ],\n",
       "       [ -0.  , -51.28, -51.28,  -0.  ]])"
      ]
     },
     "execution_count": 54,
     "metadata": {},
     "output_type": "execute_result"
    }
   ],
   "source": [
    "np.array([[  0.  ,  51.28,  51.28,   0.  ],\n",
    "       [  0.  ,  25.64,  25.64,   0.  ],\n",
    "       [ -0.  , -25.64, -25.64,  -0.  ],\n",
    "       [ -0.  , -51.28, -51.28,  -0.  ]])"
   ]
  },
  {
   "cell_type": "code",
   "execution_count": null,
   "metadata": {},
   "outputs": [],
   "source": []
  },
  {
   "cell_type": "code",
   "execution_count": null,
   "metadata": {},
   "outputs": [],
   "source": []
  }
 ],
 "metadata": {
  "kernelspec": {
   "display_name": "Python 3",
   "language": "python",
   "name": "python3"
  },
  "language_info": {
   "codemirror_mode": {
    "name": "ipython",
    "version": 3
   },
   "file_extension": ".py",
   "mimetype": "text/x-python",
   "name": "python",
   "nbconvert_exporter": "python",
   "pygments_lexer": "ipython3",
   "version": "3.5.2"
  }
 },
 "nbformat": 4,
 "nbformat_minor": 2
}
