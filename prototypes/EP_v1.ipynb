{
 "cells": [
  {
   "cell_type": "markdown",
   "metadata": {},
   "source": [
    "<a href=\"http://folk.ntnu.no/leifh/teaching/tkt4140/._main057.html\" target=\"_blank\">Iterative Methods</a>"
   ]
  },
  {
   "cell_type": "markdown",
   "metadata": {},
   "source": [
    "N = 4 <br>\n",
    "prototype"
   ]
  },
  {
   "cell_type": "markdown",
   "metadata": {},
   "source": [
    "<h4>Item <i>\"a)\"</i> Onde f = 0 e u(x,y)= alpha * np.exp(x) * np.sin(y) na fronteira</h4>"
   ]
  },
  {
   "cell_type": "code",
   "execution_count": 1,
   "metadata": {},
   "outputs": [],
   "source": [
    "import numpy as np\n",
    "import pandas as pd\n",
    "from time import time"
   ]
  },
  {
   "cell_type": "markdown",
   "metadata": {},
   "source": [
    "<h3>Funções Auxiliares</h3>"
   ]
  },
  {
   "cell_type": "markdown",
   "metadata": {},
   "source": [
    "<h4>Jacobi</h4>"
   ]
  },
  {
   "cell_type": "code",
   "execution_count": 2,
   "metadata": {},
   "outputs": [],
   "source": [
    "def jacobi_method(U_old, U_new, h, F):\n",
    "    for j in range(1,N):\n",
    "        for i in range(1,N):\n",
    "            U_new[i, j] = 0.25*(U_old[i-1, j] + U_old[i+1, j] + U_old[i, j-1] + U_old[i, j+1] + h**2 * F[i, j])   "
   ]
  },
  {
   "cell_type": "markdown",
   "metadata": {},
   "source": [
    "<h4>Gauss-Seidel</h4>"
   ]
  },
  {
   "cell_type": "code",
   "execution_count": 3,
   "metadata": {},
   "outputs": [],
   "source": [
    "def g_s_method(U_old, U_new, h, F):\n",
    "    for j in range(1,N):\n",
    "        for i in range(1,N):\n",
    "            U_new[i, j] = 0.25*(U_new[i-1, j] + U_old[i+1, j] + U_new[i, j-1] + U_old[i, j+1] + h**2 * F[i, j])   "
   ]
  },
  {
   "cell_type": "markdown",
   "metadata": {},
   "source": [
    "<h3>Funções Vetoriais Auxiliares</h3>"
   ]
  },
  {
   "cell_type": "markdown",
   "metadata": {},
   "source": [
    "<h4>Jacobi</h4>"
   ]
  },
  {
   "cell_type": "code",
   "execution_count": 4,
   "metadata": {},
   "outputs": [],
   "source": [
    "def jacobi_method_vector(U_old, U_new, h, F):\n",
    "    \n",
    "    left_points  = U_old[0:N-1, 1:N].copy()\n",
    "    right_points = U_old[2:N+1, 1:N].copy()\n",
    "    down_points  = U_old[1:N, 0:N-1].copy()\n",
    "    up_points    = U_old[1:N, 2:N+1].copy()\n",
    "        \n",
    "    f_val = F[1:N, 1:N].copy()\n",
    "    f_val = h**2 * f_val\n",
    "    \n",
    "    result = 0.25 * (left_points + right_points + down_points + up_points + f_val)\n",
    "\n",
    "    U_new[1:N, 1:N] = result.copy()\n",
    "        "
   ]
  },
  {
   "cell_type": "code",
   "execution_count": null,
   "metadata": {},
   "outputs": [],
   "source": []
  },
  {
   "cell_type": "markdown",
   "metadata": {},
   "source": [
    "<h4>PASSO 1 e 2</h4>"
   ]
  },
  {
   "cell_type": "code",
   "execution_count": 5,
   "metadata": {},
   "outputs": [],
   "source": [
    "def initialize_matrixes():\n",
    "    U_old = np.zeros((N+1,N+1))\n",
    "    U_new = np.zeros((N+1,N+1))\n",
    "    F = np.zeros((N+1,N+1)) \n",
    "    \n",
    "    return U_old, U_new, F"
   ]
  },
  {
   "cell_type": "markdown",
   "metadata": {},
   "source": [
    "<h4>PASSO 3</h4>"
   ]
  },
  {
   "cell_type": "code",
   "execution_count": 6,
   "metadata": {},
   "outputs": [
    {
     "data": {
      "text/plain": [
       "0.8414709848078965"
      ]
     },
     "execution_count": 6,
     "metadata": {},
     "output_type": "execute_result"
    }
   ],
   "source": [
    "np.sin(1)"
   ]
  },
  {
   "cell_type": "code",
   "execution_count": 7,
   "metadata": {},
   "outputs": [],
   "source": [
    "def initialize_U_answer():\n",
    "    \n",
    "    U_answer = np.zeros((N+1,N+1)) \n",
    "\n",
    "    for j_y in range(N+1):\n",
    "        for i_x in range(N+1):\n",
    "            U_answer[i_x, j_y] = alpha * np.exp(h*i_x) * np.sin(h*j_y)\n",
    "    \n",
    "    return U_answer"
   ]
  },
  {
   "cell_type": "code",
   "execution_count": null,
   "metadata": {},
   "outputs": [],
   "source": []
  },
  {
   "cell_type": "markdown",
   "metadata": {},
   "source": [
    "<h4>PASSO 4</h4>"
   ]
  },
  {
   "cell_type": "code",
   "execution_count": 8,
   "metadata": {},
   "outputs": [],
   "source": [
    "def update_border(U_old, U_new):\n",
    "    # Parte inferior e superior da Malha\n",
    "    for i in range(N+1):\n",
    "        U_old[i, 0] = alpha * np.exp(h*i) * np.sin(h*0.)\n",
    "        U_old[i, N] = alpha * np.exp(h*i) * np.sin(h*N)\n",
    "\n",
    "    # Parte esquerda e direita da Malha\n",
    "    for j in range(N+1):\n",
    "        U_old[0, j] = alpha * np.exp(h*0.) * np.sin(h*j)\n",
    "        U_old[N, j] = alpha * np.exp(h*N) * np.sin(h*j)    \n",
    "    \n",
    "    #U_old e U_new têm o mesmo valor nas bordas\n",
    "    U_new = U_old.copy()\n",
    "    \n",
    "    return U_new, U_old"
   ]
  },
  {
   "cell_type": "code",
   "execution_count": 9,
   "metadata": {},
   "outputs": [],
   "source": [
    "def calculate_difference(U_new, U_old, N):\n",
    "    \n",
    "    quadratic_diff = (U_new[1:N-1, 1:N-1] - U_old[1:N-1, 1:N-1]) **2\n",
    "    return h * np.sqrt((quadratic_diff.sum()))"
   ]
  },
  {
   "cell_type": "markdown",
   "metadata": {},
   "source": [
    "<h4>PASSO 5-7</h4>"
   ]
  },
  {
   "cell_type": "code",
   "execution_count": null,
   "metadata": {},
   "outputs": [],
   "source": []
  },
  {
   "cell_type": "code",
   "execution_count": 10,
   "metadata": {},
   "outputs": [],
   "source": [
    "def call_g_s(U_old, U_new, h, F, TOL, U_answer, MAXITER):\n",
    "    \n",
    "    start = time()\n",
    "    n_iterations = 0\n",
    "    \n",
    "    for it in range(80000):\n",
    "\n",
    "        g_s_method(U_old, U_new, h, F)\n",
    "\n",
    "        if calculate_difference(U_new, U_old, N) <= TOL:\n",
    "            print('Gauss-Seidel convergiu com %d iterações' %(it))\n",
    "            n_iterations = it\n",
    "            break\n",
    "\n",
    "        U_old = U_new.copy()\n",
    "\n",
    "    end = time()\n",
    "#     print('%f Segundos' %(end-start), '\\nErro: ',np.amax(abs(U_answer - U_new)))\n",
    "    return ['Gauss-Seidel', N, n_iterations, (end-start), np.amax(abs(U_answer - U_new))]\n"
   ]
  },
  {
   "cell_type": "code",
   "execution_count": 11,
   "metadata": {
    "scrolled": true
   },
   "outputs": [],
   "source": [
    "def call_jacobi(U_old, U_new, h, F, TOL, U_answer, MAXITER):\n",
    "    \n",
    "    start = time()\n",
    "    n_iterations = 0\n",
    "\n",
    "    for it in range(80000):\n",
    "        jacobi_method(U_old, U_new, h, F)\n",
    "\n",
    "        if calculate_difference(U_new, U_old, N) <= TOL:\n",
    "            print('Jacobi convergiu com %d iterações' %(it))\n",
    "            n_iterations = it\n",
    "            break\n",
    "\n",
    "        U_old = U_new.copy()\n",
    "\n",
    "    end = time()\n",
    "#     print('%f Segundos' %(end-start), '\\nErro: ',np.amax(abs(U_answer - U_new)))    \n",
    "    return ['Jacobi', N, n_iterations, (end-start), np.amax(abs(U_answer - U_new))]\n"
   ]
  },
  {
   "cell_type": "code",
   "execution_count": null,
   "metadata": {},
   "outputs": [],
   "source": []
  },
  {
   "cell_type": "code",
   "execution_count": 12,
   "metadata": {},
   "outputs": [],
   "source": [
    "df = pd.DataFrame({},columns=['Método', 'tamanho de N', 'num. iterações', 'tempo(seg)', 'erro absoluto máx'])"
   ]
  },
  {
   "cell_type": "code",
   "execution_count": 13,
   "metadata": {},
   "outputs": [
    {
     "name": "stdout",
     "output_type": "stream",
     "text": [
      "Jacobi convergiu com 17 iterações\n"
     ]
    }
   ],
   "source": [
    "N=2**5\n",
    "MAXITER=80000\n",
    "\n",
    "alpha = 3.0\n",
    "h=1./N\n",
    "\n",
    "TOL = 10**-5 * h\n",
    "\n",
    "U_old, U_new, F = initialize_matrixes()\n",
    "U_answer = initialize_U_answer()\n",
    "U_new, U_old = update_border(U_old, U_new)\n",
    "\n",
    "df.loc[-1] = call_jacobi(U_old, U_new, h, F, TOL, U_answer, MAXITER)\n",
    "df.index += 1"
   ]
  },
  {
   "cell_type": "code",
   "execution_count": 14,
   "metadata": {},
   "outputs": [
    {
     "data": {
      "text/html": [
       "<div>\n",
       "<style scoped>\n",
       "    .dataframe tbody tr th:only-of-type {\n",
       "        vertical-align: middle;\n",
       "    }\n",
       "\n",
       "    .dataframe tbody tr th {\n",
       "        vertical-align: top;\n",
       "    }\n",
       "\n",
       "    .dataframe thead th {\n",
       "        text-align: right;\n",
       "    }\n",
       "</style>\n",
       "<table border=\"1\" class=\"dataframe\">\n",
       "  <thead>\n",
       "    <tr style=\"text-align: right;\">\n",
       "      <th></th>\n",
       "      <th>Método</th>\n",
       "      <th>tamanho de N</th>\n",
       "      <th>num. iterações</th>\n",
       "      <th>tempo(seg)</th>\n",
       "      <th>erro absoluto máx</th>\n",
       "    </tr>\n",
       "  </thead>\n",
       "  <tbody>\n",
       "    <tr>\n",
       "      <th>0</th>\n",
       "      <td>Jacobi</td>\n",
       "      <td>3</td>\n",
       "      <td>17</td>\n",
       "      <td>0.000668</td>\n",
       "      <td>0.003048</td>\n",
       "    </tr>\n",
       "  </tbody>\n",
       "</table>\n",
       "</div>"
      ],
      "text/plain": [
       "   Método tamanho de N num. iterações  tempo(seg)  erro absoluto máx\n",
       "0  Jacobi            3             17    0.000668           0.003048"
      ]
     },
     "execution_count": 14,
     "metadata": {},
     "output_type": "execute_result"
    }
   ],
   "source": [
    "df"
   ]
  },
  {
   "cell_type": "code",
   "execution_count": null,
   "metadata": {},
   "outputs": [],
   "source": []
  },
  {
   "cell_type": "code",
   "execution_count": null,
   "metadata": {},
   "outputs": [],
   "source": []
  },
  {
   "cell_type": "code",
   "execution_count": 55,
   "metadata": {},
   "outputs": [
    {
     "name": "stdout",
     "output_type": "stream",
     "text": [
      "Gauss-Seidel convergiu com 15968 iterações\n"
     ]
    }
   ],
   "source": [
    "N=2**7\n",
    "MAXITER=80000\n",
    "\n",
    "alpha = 3.0\n",
    "h=1./N\n",
    "\n",
    "TOL = 10**-5 * h\n",
    "\n",
    "U_old, U_new, F = initialize_matrixes()\n",
    "U_answer = initialize_U_answer()\n",
    "U_new, U_old = update_border(U_old, U_new)\n",
    "\n",
    "df.loc[-1] = call_g_s(U_old, U_new, h, F, TOL, U_answer, MAXITER)\n",
    "df.index += 1"
   ]
  },
  {
   "cell_type": "code",
   "execution_count": null,
   "metadata": {},
   "outputs": [],
   "source": []
  },
  {
   "cell_type": "code",
   "execution_count": null,
   "metadata": {},
   "outputs": [],
   "source": []
  },
  {
   "cell_type": "code",
   "execution_count": null,
   "metadata": {},
   "outputs": [],
   "source": []
  },
  {
   "cell_type": "code",
   "execution_count": null,
   "metadata": {},
   "outputs": [],
   "source": []
  },
  {
   "cell_type": "code",
   "execution_count": 58,
   "metadata": {},
   "outputs": [
    {
     "data": {
      "text/html": [
       "<div>\n",
       "<style scoped>\n",
       "    .dataframe tbody tr th:only-of-type {\n",
       "        vertical-align: middle;\n",
       "    }\n",
       "\n",
       "    .dataframe tbody tr th {\n",
       "        vertical-align: top;\n",
       "    }\n",
       "\n",
       "    .dataframe thead th {\n",
       "        text-align: right;\n",
       "    }\n",
       "</style>\n",
       "<table border=\"1\" class=\"dataframe\">\n",
       "  <thead>\n",
       "    <tr style=\"text-align: right;\">\n",
       "      <th></th>\n",
       "      <th>Método</th>\n",
       "      <th>tamanho de N</th>\n",
       "      <th>num. iterações</th>\n",
       "      <th>tempo</th>\n",
       "      <th>erro absoluto máx</th>\n",
       "    </tr>\n",
       "  </thead>\n",
       "  <tbody>\n",
       "    <tr>\n",
       "      <th>11</th>\n",
       "      <td>Jacobi</td>\n",
       "      <td>4</td>\n",
       "      <td>35</td>\n",
       "      <td>0.002657</td>\n",
       "      <td>0.001719</td>\n",
       "    </tr>\n",
       "    <tr>\n",
       "      <th>10</th>\n",
       "      <td>Jacobi</td>\n",
       "      <td>8</td>\n",
       "      <td>147</td>\n",
       "      <td>0.020888</td>\n",
       "      <td>0.000452</td>\n",
       "    </tr>\n",
       "    <tr>\n",
       "      <th>9</th>\n",
       "      <td>Jacobi</td>\n",
       "      <td>16</td>\n",
       "      <td>566</td>\n",
       "      <td>0.254789</td>\n",
       "      <td>0.000069</td>\n",
       "    </tr>\n",
       "    <tr>\n",
       "      <th>8</th>\n",
       "      <td>Jacobi</td>\n",
       "      <td>32</td>\n",
       "      <td>2133</td>\n",
       "      <td>3.530052</td>\n",
       "      <td>0.000102</td>\n",
       "    </tr>\n",
       "    <tr>\n",
       "      <th>7</th>\n",
       "      <td>Jacobi</td>\n",
       "      <td>64</td>\n",
       "      <td>7968</td>\n",
       "      <td>54.140865</td>\n",
       "      <td>0.000252</td>\n",
       "    </tr>\n",
       "    <tr>\n",
       "      <th>6</th>\n",
       "      <td>Gauss-Seidel</td>\n",
       "      <td>4</td>\n",
       "      <td>20</td>\n",
       "      <td>0.002492</td>\n",
       "      <td>0.001731</td>\n",
       "    </tr>\n",
       "    <tr>\n",
       "      <th>5</th>\n",
       "      <td>Gauss-Seidel</td>\n",
       "      <td>8</td>\n",
       "      <td>80</td>\n",
       "      <td>0.009148</td>\n",
       "      <td>0.000469</td>\n",
       "    </tr>\n",
       "    <tr>\n",
       "      <th>4</th>\n",
       "      <td>Gauss-Seidel</td>\n",
       "      <td>16</td>\n",
       "      <td>305</td>\n",
       "      <td>0.142973</td>\n",
       "      <td>0.000096</td>\n",
       "    </tr>\n",
       "    <tr>\n",
       "      <th>3</th>\n",
       "      <td>Gauss-Seidel</td>\n",
       "      <td>32</td>\n",
       "      <td>1145</td>\n",
       "      <td>1.964187</td>\n",
       "      <td>0.000038</td>\n",
       "    </tr>\n",
       "    <tr>\n",
       "      <th>2</th>\n",
       "      <td>Gauss-Seidel</td>\n",
       "      <td>64</td>\n",
       "      <td>4285</td>\n",
       "      <td>29.437325</td>\n",
       "      <td>0.000123</td>\n",
       "    </tr>\n",
       "    <tr>\n",
       "      <th>1</th>\n",
       "      <td>Gauss-Seidel</td>\n",
       "      <td>128</td>\n",
       "      <td>15968</td>\n",
       "      <td>434.077838</td>\n",
       "      <td>0.000257</td>\n",
       "    </tr>\n",
       "    <tr>\n",
       "      <th>0</th>\n",
       "      <td>Jacobi</td>\n",
       "      <td>128</td>\n",
       "      <td>29581</td>\n",
       "      <td>818.075273</td>\n",
       "      <td>0.000517</td>\n",
       "    </tr>\n",
       "  </tbody>\n",
       "</table>\n",
       "</div>"
      ],
      "text/plain": [
       "          Método tamanho de N num. iterações       tempo  erro absoluto máx\n",
       "11        Jacobi            4             35    0.002657           0.001719\n",
       "10        Jacobi            8            147    0.020888           0.000452\n",
       "9         Jacobi           16            566    0.254789           0.000069\n",
       "8         Jacobi           32           2133    3.530052           0.000102\n",
       "7         Jacobi           64           7968   54.140865           0.000252\n",
       "6   Gauss-Seidel            4             20    0.002492           0.001731\n",
       "5   Gauss-Seidel            8             80    0.009148           0.000469\n",
       "4   Gauss-Seidel           16            305    0.142973           0.000096\n",
       "3   Gauss-Seidel           32           1145    1.964187           0.000038\n",
       "2   Gauss-Seidel           64           4285   29.437325           0.000123\n",
       "1   Gauss-Seidel          128          15968  434.077838           0.000257\n",
       "0         Jacobi          128          29581  818.075273           0.000517"
      ]
     },
     "execution_count": 58,
     "metadata": {},
     "output_type": "execute_result"
    }
   ],
   "source": [
    "df"
   ]
  },
  {
   "cell_type": "code",
   "execution_count": null,
   "metadata": {},
   "outputs": [],
   "source": []
  }
 ],
 "metadata": {
  "kernelspec": {
   "display_name": "Python 3",
   "language": "python",
   "name": "python3"
  },
  "language_info": {
   "codemirror_mode": {
    "name": "ipython",
    "version": 3
   },
   "file_extension": ".py",
   "mimetype": "text/x-python",
   "name": "python",
   "nbconvert_exporter": "python",
   "pygments_lexer": "ipython3",
   "version": "3.5.9"
  }
 },
 "nbformat": 4,
 "nbformat_minor": 2
}
