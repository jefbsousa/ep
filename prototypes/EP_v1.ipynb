{
 "cells": [
  {
   "cell_type": "markdown",
   "metadata": {},
   "source": [
    "<a href=\"http://folk.ntnu.no/leifh/teaching/tkt4140/._main057.html\" target=\"_blank\">Iterative Methods</a>"
   ]
  },
  {
   "cell_type": "markdown",
   "metadata": {},
   "source": [
    "N = 4 <br>\n",
    "prototype"
   ]
  },
  {
   "cell_type": "markdown",
   "metadata": {},
   "source": [
    "<h4>Item <i>\"a)\"</i> Onde f = 0 e u(x,y)= alpha * np.exp(x) * np.sin(y) na fronteira</h4>"
   ]
  },
  {
   "cell_type": "code",
   "execution_count": 15,
   "metadata": {},
   "outputs": [],
   "source": [
    "import numpy as np\n",
    "from time import time"
   ]
  },
  {
   "cell_type": "code",
   "execution_count": 16,
   "metadata": {},
   "outputs": [],
   "source": [
    "N=2**5\n",
    "MAXITER=10**2\n",
    "\n",
    "alpha = 3.0\n",
    "h=1./N\n",
    "\n",
    "TOL = 10**-5 * h"
   ]
  },
  {
   "cell_type": "markdown",
   "metadata": {},
   "source": [
    "<h3>Funções Auxiliares</h3>"
   ]
  },
  {
   "cell_type": "markdown",
   "metadata": {},
   "source": [
    "<h4>Jacobi</h4>"
   ]
  },
  {
   "cell_type": "code",
   "execution_count": 17,
   "metadata": {},
   "outputs": [],
   "source": [
    "def jacobi_method(U_old, U_new, h, F):\n",
    "    for j in range(1,N):\n",
    "        for i in range(1,N):\n",
    "            U_new[i, j] = 0.25*(U_old[i-1, j] + U_old[i+1, j] + U_old[i, j-1] + U_old[i, j+1] + h**2 * F[i, j])   "
   ]
  },
  {
   "cell_type": "markdown",
   "metadata": {},
   "source": [
    "<h4>Gauss-Seidel</h4>"
   ]
  },
  {
   "cell_type": "code",
   "execution_count": 18,
   "metadata": {},
   "outputs": [],
   "source": [
    "def gauss_seidel_method(U_old, U_new, h, F):\n",
    "    for j in range(1,N):\n",
    "        for i in range(1,N):\n",
    "            U_new[i, j] = 0.25*(U_new[i-1, j] + U_old[i+1, j] + U_new[i, j-1] + U_old[i, j+1] + h**2 * F[i, j])   "
   ]
  },
  {
   "cell_type": "markdown",
   "metadata": {},
   "source": [
    "<h3>Funções Vetoriais Auxiliares</h3>"
   ]
  },
  {
   "cell_type": "markdown",
   "metadata": {},
   "source": [
    "<h4>Jacobi</h4>"
   ]
  },
  {
   "cell_type": "code",
   "execution_count": 19,
   "metadata": {},
   "outputs": [],
   "source": [
    "def jacobi_method_vector(U_old, U_new, h, F):\n",
    "    \n",
    "    for i in range(1,N):\n",
    "        left_points  = U_old[i-1, 1:N].copy()\n",
    "        right_points = U_old[i+1, 1:N].copy()\n",
    "        down_points  = U_old[i, 0:N-1].copy()\n",
    "        up_points    = U_old[i, 2:N+1].copy()\n",
    "        f_val = F[j, 1:N].copy()\n",
    "        f_val = h**2 * f_val\n",
    "        \n",
    "        result = left_points.copy()\n",
    "        for element in [right_points, down_points, up_points, f_val]:\n",
    "            result = np.add(result, element)\n",
    "        \n",
    "        result = 0.25 * result\n",
    "        U_new[i, 1:N] = result.copy()\n",
    "        "
   ]
  },
  {
   "cell_type": "code",
   "execution_count": null,
   "metadata": {},
   "outputs": [],
   "source": [
    "def jacobi_method_matrix(U_old, U_new, h, F):\n",
    "    \n",
    "    for i in range(1,N):\n",
    "        left_points  = U_old[i-1, 1:N].copy()\n",
    "        right_points = U_old[i+1, 1:N].copy()\n",
    "        down_points  = U_old[i, 0:N-1].copy()\n",
    "        up_points    = U_old[i, 2:N+1].copy()\n",
    "        f_val = F[j, 1:N].copy()\n",
    "        f_val = h**2 * f_val\n",
    "        \n",
    "        result = left_points.copy()\n",
    "        for element in [right_points, down_points, up_points, f_val]:\n",
    "            result = np.add(result, element)\n",
    "        \n",
    "        result = 0.25 * result\n",
    "        U_new[i, 1:N] = result.copy()\n",
    "        "
   ]
  },
  {
   "cell_type": "code",
   "execution_count": null,
   "metadata": {},
   "outputs": [],
   "source": []
  },
  {
   "cell_type": "code",
   "execution_count": null,
   "metadata": {},
   "outputs": [],
   "source": []
  },
  {
   "cell_type": "code",
   "execution_count": 20,
   "metadata": {},
   "outputs": [],
   "source": [
    "a = np.matrix([[1,2,3, 2,2],\n",
    "               [3,5,2,1,2],\n",
    "               [3,4,3,4,3],\n",
    "               [5,4,1,5,1],\n",
    "               [2,3,4,5,1]\n",
    "              ])"
   ]
  },
  {
   "cell_type": "code",
   "execution_count": null,
   "metadata": {},
   "outputs": [],
   "source": []
  },
  {
   "cell_type": "markdown",
   "metadata": {},
   "source": [
    "<h4>PASSO 1 e 2</h4>"
   ]
  },
  {
   "cell_type": "code",
   "execution_count": 21,
   "metadata": {},
   "outputs": [],
   "source": [
    "U_old = np.zeros((N+1,N+1))\n",
    "U_new = np.zeros((N+1,N+1))\n",
    "F = np.zeros((N+1,N+1)) "
   ]
  },
  {
   "cell_type": "markdown",
   "metadata": {},
   "source": [
    "<h4>PASSO 3</h4>"
   ]
  },
  {
   "cell_type": "code",
   "execution_count": 22,
   "metadata": {},
   "outputs": [],
   "source": [
    "F = np.zeros((N+1,N+1)) "
   ]
  },
  {
   "cell_type": "code",
   "execution_count": 23,
   "metadata": {},
   "outputs": [],
   "source": [
    "U_answer = np.zeros((N+1,N+1)) \n",
    "\n",
    "for j_y in range(N+1):\n",
    "    for i_x in range(N+1):\n",
    "        U_answer[i_x, j_y] = alpha * np.exp(h*i_x) * np.sin(h*j_y)"
   ]
  },
  {
   "cell_type": "markdown",
   "metadata": {},
   "source": [
    "<h4>PASSO 4</h4>"
   ]
  },
  {
   "cell_type": "code",
   "execution_count": 24,
   "metadata": {},
   "outputs": [],
   "source": [
    "# Atualiza as bordas\n",
    "\n",
    "\n",
    "# Parte inferior e superior da Malha\n",
    "for i in range(N+1):\n",
    "    U_old[i, 0] = alpha * np.exp(h*i) * np.sin(h*0.)\n",
    "    U_old[i, N] = alpha * np.exp(h*i) * np.sin(h*N)\n",
    "\n",
    "# Parte esquerda e direita da Malha\n",
    "for j in range(N+1):\n",
    "    U_old[0, j] = alpha * np.exp(h*0.) * np.sin(h*j)\n",
    "    U_old[N, j] = alpha * np.exp(h*N) * np.sin(h*j)    \n"
   ]
  },
  {
   "cell_type": "markdown",
   "metadata": {},
   "source": [
    "<h4>U_old e U_new têm o mesmo valor nas bordas</h4>"
   ]
  },
  {
   "cell_type": "code",
   "execution_count": 25,
   "metadata": {},
   "outputs": [],
   "source": [
    "U_new = U_old.copy()"
   ]
  },
  {
   "cell_type": "code",
   "execution_count": 26,
   "metadata": {},
   "outputs": [],
   "source": [
    "def calculate_difference(U_new, U_old, N):\n",
    "    \n",
    "    quadratic_diff = (U_new[1:N-1, 1:N-1] - U_old[1:N-1, 1:N-1]) **2\n",
    "    return h * np.sqrt((quadratic_diff.sum()))"
   ]
  },
  {
   "cell_type": "code",
   "execution_count": null,
   "metadata": {},
   "outputs": [],
   "source": []
  },
  {
   "cell_type": "markdown",
   "metadata": {},
   "source": [
    "<h4>PASSO 5-7</h4>"
   ]
  },
  {
   "cell_type": "code",
   "execution_count": 13,
   "metadata": {},
   "outputs": [
    {
     "name": "stdout",
     "output_type": "stream",
     "text": [
      "Algoritmo convergiu com 2133 iterações\n",
      "3.787697 Segundos\n"
     ]
    }
   ],
   "source": [
    "start = time()\n",
    "\n",
    "for it in range(4000):\n",
    "    jacobi_method(U_old, U_new, h, F)\n",
    "    \n",
    "#     gauss_seidel_method(U_old, U_new, h, F)\n",
    "    \n",
    "    if calculate_difference(U_new, U_old, N) <= TOL:\n",
    "        print('Algoritmo convergiu com %d iterações' %(it))\n",
    "        break\n",
    "    \n",
    "    U_old = U_new.copy()\n",
    "\n",
    "end = time()\n",
    "print('%f Segundos' %(end-start))\n",
    "    "
   ]
  },
  {
   "cell_type": "code",
   "execution_count": 14,
   "metadata": {},
   "outputs": [
    {
     "data": {
      "text/plain": [
       "0.03986156139475919"
      ]
     },
     "execution_count": 14,
     "metadata": {},
     "output_type": "execute_result"
    }
   ],
   "source": [
    "(U_answer - U_old).sum()"
   ]
  },
  {
   "cell_type": "code",
   "execution_count": null,
   "metadata": {},
   "outputs": [],
   "source": []
  },
  {
   "cell_type": "code",
   "execution_count": 27,
   "metadata": {},
   "outputs": [
    {
     "name": "stdout",
     "output_type": "stream",
     "text": [
      "Algoritmo convergiu com 2133 iterações\n",
      "0.677960 Segundos\n"
     ]
    }
   ],
   "source": [
    "start = time()\n",
    "\n",
    "for it in range(4000):\n",
    "    jacobi_method_vector(U_old, U_new, h, F)\n",
    "    \n",
    "#     gauss_seidel_method(U_old, U_new, h, F)\n",
    "    \n",
    "    if calculate_difference(U_new, U_old, N) <= TOL:\n",
    "        print('Algoritmo convergiu com %d iterações' %(it))\n",
    "        break\n",
    "    \n",
    "    U_old = U_new.copy()\n",
    "\n",
    "end = time()\n",
    "print('%f Segundos' %(end-start))"
   ]
  },
  {
   "cell_type": "code",
   "execution_count": 28,
   "metadata": {},
   "outputs": [
    {
     "data": {
      "text/plain": [
       "0.03986156139475919"
      ]
     },
     "execution_count": 28,
     "metadata": {},
     "output_type": "execute_result"
    }
   ],
   "source": [
    "(U_answer - U_old).sum()"
   ]
  },
  {
   "cell_type": "code",
   "execution_count": null,
   "metadata": {},
   "outputs": [],
   "source": []
  },
  {
   "cell_type": "code",
   "execution_count": null,
   "metadata": {},
   "outputs": [],
   "source": []
  },
  {
   "cell_type": "code",
   "execution_count": null,
   "metadata": {},
   "outputs": [],
   "source": []
  },
  {
   "cell_type": "code",
   "execution_count": null,
   "metadata": {},
   "outputs": [],
   "source": []
  },
  {
   "cell_type": "code",
   "execution_count": null,
   "metadata": {},
   "outputs": [],
   "source": []
  }
 ],
 "metadata": {
  "kernelspec": {
   "display_name": "Python 3",
   "language": "python",
   "name": "python3"
  },
  "language_info": {
   "codemirror_mode": {
    "name": "ipython",
    "version": 3
   },
   "file_extension": ".py",
   "mimetype": "text/x-python",
   "name": "python",
   "nbconvert_exporter": "python",
   "pygments_lexer": "ipython3",
   "version": "3.5.9"
  }
 },
 "nbformat": 4,
 "nbformat_minor": 2
}
