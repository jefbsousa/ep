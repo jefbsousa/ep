{
 "cells": [
  {
   "cell_type": "markdown",
   "metadata": {},
   "source": [
    "<a href=\"http://folk.ntnu.no/leifh/teaching/tkt4140/._main057.html\" target=\"_blank\">Iterative Methods</a>"
   ]
  },
  {
   "cell_type": "markdown",
   "metadata": {},
   "source": [
    "N = 4 <br>\n",
    "prototype"
   ]
  },
  {
   "cell_type": "markdown",
   "metadata": {},
   "source": [
    "<h4>Item <i>\"a)\"</i> Onde f = 0 e u(x,y)= alpha * np.exp(x) * np.sin(y) na fronteira</h4>"
   ]
  },
  {
   "cell_type": "code",
   "execution_count": 45,
   "metadata": {},
   "outputs": [],
   "source": [
    "import numpy as np\n",
    "import pandas as pd\n",
    "from time import time"
   ]
  },
  {
   "cell_type": "markdown",
   "metadata": {},
   "source": [
    "<h3>Funções Auxiliares</h3>"
   ]
  },
  {
   "cell_type": "markdown",
   "metadata": {},
   "source": [
    "<h4>Jacobi</h4>"
   ]
  },
  {
   "cell_type": "code",
   "execution_count": 46,
   "metadata": {},
   "outputs": [],
   "source": [
    "def jacobi_method(U_old, U_new, h, F):\n",
    "    for j in range(1,N):\n",
    "        for i in range(1,N):\n",
    "            U_new[i, j] = 0.25*(U_old[i-1, j] + U_old[i+1, j] + U_old[i, j-1] + U_old[i, j+1] + h**2 * F[i, j])   "
   ]
  },
  {
   "cell_type": "markdown",
   "metadata": {},
   "source": [
    "<h4>Gauss-Seidel</h4>"
   ]
  },
  {
   "cell_type": "code",
   "execution_count": 47,
   "metadata": {},
   "outputs": [],
   "source": [
    "def g_s_method(U_old, U_new, h, F):\n",
    "    for j in range(1,N):\n",
    "        for i in range(1,N):\n",
    "            U_new[i, j] = 0.25*(U_new[i-1, j] + U_old[i+1, j] + U_new[i, j-1] + U_old[i, j+1] + h**2 * F[i, j])   "
   ]
  },
  {
   "cell_type": "markdown",
   "metadata": {},
   "source": [
    "<h4>SOR</h4>"
   ]
  },
  {
   "cell_type": "code",
   "execution_count": 48,
   "metadata": {},
   "outputs": [],
   "source": [
    "def sor_method(w, U_old, U_new, h, F):\n",
    "    for j in range(1,N):\n",
    "        for i in range(1,N):\n",
    "            U_new[i,j] =  (w/4.0) * (U_new[i-1,j] + U_old[i+1,j] + U_new[i,j-1] + U_old[i,j+1] + h**2 *F[i,j]) + (1.-w)*U_old[i,j];\n"
   ]
  },
  {
   "cell_type": "code",
   "execution_count": null,
   "metadata": {},
   "outputs": [],
   "source": []
  },
  {
   "cell_type": "markdown",
   "metadata": {},
   "source": [
    "<h4>PASSO 1 e 2</h4>"
   ]
  },
  {
   "cell_type": "code",
   "execution_count": 49,
   "metadata": {},
   "outputs": [],
   "source": [
    "def initialize_matrixes():\n",
    "    U_old = np.zeros((N+1,N+1))\n",
    "    U_new = np.zeros((N+1,N+1))\n",
    "    F = np.zeros((N+1,N+1)) \n",
    "    \n",
    "    return U_old, U_new, F"
   ]
  },
  {
   "cell_type": "markdown",
   "metadata": {},
   "source": [
    "<h4>PASSO 3</h4>"
   ]
  },
  {
   "cell_type": "code",
   "execution_count": 50,
   "metadata": {},
   "outputs": [],
   "source": [
    "def initialize_F_2A(F):\n",
    "    \n",
    "    for j_y in range(N+1):\n",
    "        for i_x in range(N+1):\n",
    "            F[i_x, j_y] = -100./8.84\n",
    "    \n",
    "    return F"
   ]
  },
  {
   "cell_type": "code",
   "execution_count": 64,
   "metadata": {},
   "outputs": [],
   "source": [
    "def initialize_F_2B(F):\n",
    "    \n",
    "    for j_y in range(N+1):\n",
    "        for i_x in range(N+1):\n",
    "            F[i_x, j_y] = -10./75. * np.sin(np.pi * (i_x*h + j_y*h)) * 10**4\n",
    "    \n",
    "    return F"
   ]
  },
  {
   "cell_type": "markdown",
   "metadata": {},
   "source": [
    "<h4>PASSO 4</h4>"
   ]
  },
  {
   "cell_type": "code",
   "execution_count": 52,
   "metadata": {},
   "outputs": [],
   "source": [
    "def update_border(U_old, U_new):\n",
    "    # Parte inferior e superior da Malha\n",
    "    for i in range(N+1):\n",
    "        U_old[i, 0] = 0.0\n",
    "        U_old[i, N] = 110.\n",
    "\n",
    "    # Parte esquerda e direita da Malha\n",
    "    for j in range(N+1):\n",
    "        U_old[0, j] = 110. * np.sin((np.pi/2.)*(h*j))\n",
    "        U_old[N, j] = 110. * np.sin((np.pi/2.)*(h*j))    \n",
    "    \n",
    "    #U_old e U_new têm o mesmo valor nas bordas\n",
    "    U_new = U_old.copy()\n",
    "    \n",
    "    return U_new, U_old"
   ]
  },
  {
   "cell_type": "code",
   "execution_count": 53,
   "metadata": {},
   "outputs": [],
   "source": [
    "def calculate_difference(U_new, U_old, N):\n",
    "    \n",
    "    quadratic_diff = (U_new[1:N-1, 1:N-1] - U_old[1:N-1, 1:N-1]) **2\n",
    "    return h * np.sqrt((quadratic_diff.sum()))"
   ]
  },
  {
   "cell_type": "markdown",
   "metadata": {},
   "source": [
    "<h4>PASSO 5-7</h4>"
   ]
  },
  {
   "cell_type": "code",
   "execution_count": null,
   "metadata": {},
   "outputs": [],
   "source": []
  },
  {
   "cell_type": "code",
   "execution_count": 54,
   "metadata": {},
   "outputs": [],
   "source": [
    "def call_g_s(U_old, U_new, h, F, TOL, MAXITER):\n",
    "    \n",
    "    start = time()\n",
    "    n_iterations = 0\n",
    "    \n",
    "    for it in range(80000):\n",
    "\n",
    "        g_s_method(U_old, U_new, h, F)\n",
    "\n",
    "        if calculate_difference(U_new, U_old, N) <= TOL:\n",
    "            print('Gauss-Seidel convergiu com %d iterações' %(it))\n",
    "            n_iterations = it\n",
    "            break\n",
    "\n",
    "        U_old = U_new.copy()\n",
    "\n",
    "    end = time()\n",
    "    return ['Gauss-Seidel', N, n_iterations, (end-start)]\n"
   ]
  },
  {
   "cell_type": "code",
   "execution_count": 55,
   "metadata": {
    "scrolled": true
   },
   "outputs": [],
   "source": [
    "def call_jacobi(U_old, U_new, h, F, TOL, MAXITER):\n",
    "    \n",
    "    start = time()\n",
    "    n_iterations = 0\n",
    "\n",
    "    for it in range(80000):\n",
    "        jacobi_method(U_old, U_new, h, F)\n",
    "\n",
    "        if calculate_difference(U_new, U_old, N) <= TOL:\n",
    "            print('Jacobi convergiu com %d iterações' %(it))\n",
    "            n_iterations = it\n",
    "            break\n",
    "\n",
    "        U_old = U_new.copy()\n",
    "\n",
    "    end = time()  \n",
    "    return ['Jacobi', N, n_iterations, (end-start)]\n"
   ]
  },
  {
   "cell_type": "code",
   "execution_count": 56,
   "metadata": {},
   "outputs": [],
   "source": [
    "def call_sor(U_old, U_new, h, F, TOL, MAXITER):\n",
    "    \n",
    "    start = time()\n",
    "    n_iterations = 0\n",
    "    w = 2./(1. + np.sin(np.pi*h))\n",
    "    \n",
    "    for it in range(80000):\n",
    "        sor_method(w, U_old, U_new, h, F)\n",
    "\n",
    "        if calculate_difference(U_new, U_old, N) <= TOL:\n",
    "            print('SOR convergiu com %d iterações' %(it))\n",
    "            n_iterations = it\n",
    "            break\n",
    "\n",
    "        U_old = U_new.copy()\n",
    "\n",
    "    end = time()    \n",
    "    return ['SOR', N, n_iterations, (end-start)]\n"
   ]
  },
  {
   "cell_type": "code",
   "execution_count": null,
   "metadata": {},
   "outputs": [],
   "source": []
  },
  {
   "cell_type": "code",
   "execution_count": 57,
   "metadata": {},
   "outputs": [],
   "source": [
    "df = pd.DataFrame({},columns=['Método', 'tamanho de N', 'num. iterações', 'tempo(seg)'])"
   ]
  },
  {
   "cell_type": "code",
   "execution_count": 62,
   "metadata": {},
   "outputs": [
    {
     "name": "stdout",
     "output_type": "stream",
     "text": [
      "Jacobi convergiu com 10697 iterações\n"
     ]
    },
    {
     "data": {
      "text/plain": [
       "['Jacobi', 64, 10697, 74.34491753578186]"
      ]
     },
     "execution_count": 62,
     "metadata": {},
     "output_type": "execute_result"
    }
   ],
   "source": [
    "N=2**6\n",
    "MAXITER=80000\n",
    "\n",
    "alpha = 3.0\n",
    "h=1./N\n",
    "\n",
    "TOL = 10**-5 * h\n",
    "\n",
    "U_old, U_new, F = initialize_matrixes()\n",
    "F = initialize_F_2A(F)\n",
    "U_new, U_old = update_border(U_old, U_new)\n",
    "\n",
    "call_jacobi(U_old, U_new, h, F, TOL, MAXITER)\n",
    "# call_g_s(U_old, U_new, h, F, TOL, U_answer, MAXITER)\n",
    "# call_sor(U_old, U_new, h, F, TOL, U_answer, MAXITER)\n",
    "\n",
    "#df.loc[-1] = call_jacobi(U_old, U_new, h, F, TOL, U_answer, MAXITER)\n",
    "#df.index += 1"
   ]
  },
  {
   "cell_type": "code",
   "execution_count": 63,
   "metadata": {},
   "outputs": [
    {
     "name": "stdout",
     "output_type": "stream",
     "text": [
      "Jacobi convergiu com 10704 iterações\n"
     ]
    },
    {
     "data": {
      "text/plain": [
       "['Jacobi', 64, 10704, 73.83471608161926]"
      ]
     },
     "execution_count": 63,
     "metadata": {},
     "output_type": "execute_result"
    }
   ],
   "source": [
    "N=2**6\n",
    "MAXITER=80000\n",
    "\n",
    "alpha = 3.0\n",
    "h=1./N\n",
    "\n",
    "TOL = 10**-5 * h\n",
    "\n",
    "U_old, U_new, F = initialize_matrixes()\n",
    "F = initialize_F_2B(F)\n",
    "U_new, U_old = update_border(U_old, U_new)\n",
    "\n",
    "call_jacobi(U_old, U_new, h, F, TOL, MAXITER)\n",
    "# call_g_s(U_old, U_new, h, F, TOL, U_answer, MAXITER)\n",
    "# call_sor(U_old, U_new, h, F, TOL, U_answer, MAXITER)\n",
    "\n",
    "#df.loc[-1] = call_jacobi(U_old, U_new, h, F, TOL, U_answer, MAXITER)\n",
    "#df.index += 1"
   ]
  },
  {
   "cell_type": "code",
   "execution_count": 65,
   "metadata": {},
   "outputs": [
    {
     "name": "stdout",
     "output_type": "stream",
     "text": [
      "Jacobi convergiu com 10704 iterações\n"
     ]
    },
    {
     "data": {
      "text/plain": [
       "['Jacobi', 64, 10704, 74.41035056114197]"
      ]
     },
     "execution_count": 65,
     "metadata": {},
     "output_type": "execute_result"
    }
   ],
   "source": [
    "N=2**6\n",
    "MAXITER=80000\n",
    "\n",
    "alpha = 3.0\n",
    "h=1./N\n",
    "\n",
    "TOL = 10**-5 * h\n",
    "\n",
    "U_old, U_new, F = initialize_matrixes()\n",
    "F = initialize_F_2B(F)\n",
    "U_new, U_old = update_border(U_old, U_new)\n",
    "\n",
    "call_jacobi(U_old, U_new, h, F, TOL, MAXITER)\n",
    "# call_g_s(U_old, U_new, h, F, TOL, U_answer, MAXITER)\n",
    "# call_sor(U_old, U_new, h, F, TOL, U_answer, MAXITER)\n",
    "\n",
    "#df.loc[-1] = call_jacobi(U_old, U_new, h, F, TOL, U_answer, MAXITER)\n",
    "#df.index += 1"
   ]
  },
  {
   "cell_type": "code",
   "execution_count": null,
   "metadata": {},
   "outputs": [],
   "source": []
  },
  {
   "cell_type": "code",
   "execution_count": null,
   "metadata": {},
   "outputs": [],
   "source": []
  },
  {
   "cell_type": "code",
   "execution_count": null,
   "metadata": {},
   "outputs": [],
   "source": [
    "df"
   ]
  },
  {
   "cell_type": "code",
   "execution_count": null,
   "metadata": {},
   "outputs": [],
   "source": []
  }
 ],
 "metadata": {
  "kernelspec": {
   "display_name": "Python 3",
   "language": "python",
   "name": "python3"
  },
  "language_info": {
   "codemirror_mode": {
    "name": "ipython",
    "version": 3
   },
   "file_extension": ".py",
   "mimetype": "text/x-python",
   "name": "python",
   "nbconvert_exporter": "python",
   "pygments_lexer": "ipython3",
   "version": "3.5.9"
  }
 },
 "nbformat": 4,
 "nbformat_minor": 2
}
